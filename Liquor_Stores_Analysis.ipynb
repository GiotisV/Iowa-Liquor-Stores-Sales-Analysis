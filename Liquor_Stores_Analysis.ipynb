{
 "cells": [
  {
   "cell_type": "code",
   "execution_count": 1,
   "id": "ce6756a0",
   "metadata": {},
   "outputs": [],
   "source": [
    "import pandas as pd\n",
    "import matplotlib.pyplot as plt"
   ]
  },
  {
   "cell_type": "code",
   "execution_count": 2,
   "id": "92a30b57",
   "metadata": {},
   "outputs": [],
   "source": [
    "iowa = pd.read_csv(\"C:\\\\Users\\panag\\Desktop\\Python Projects\\liquor_sales.csv\")"
   ]
  },
  {
   "cell_type": "code",
   "execution_count": 3,
   "id": "b58b6be1",
   "metadata": {},
   "outputs": [
    {
     "data": {
      "text/plain": [
       "(74, 24)"
      ]
     },
     "execution_count": 3,
     "metadata": {},
     "output_type": "execute_result"
    }
   ],
   "source": [
    "iowa.shape"
   ]
  },
  {
   "cell_type": "code",
   "execution_count": 4,
   "id": "d8ebd367",
   "metadata": {},
   "outputs": [
    {
     "data": {
      "text/plain": [
       "invoice_and_item_number     object\n",
       "date                        object\n",
       "store_number                 int64\n",
       "store_name                  object\n",
       "address                     object\n",
       "city                        object\n",
       "zip_code                   float64\n",
       "store_location              object\n",
       "county_number                int64\n",
       "county                      object\n",
       "category                     int64\n",
       "category_name               object\n",
       "vendor_number                int64\n",
       "vendor_name                 object\n",
       "item_number                  int64\n",
       "item_description            object\n",
       "pack                         int64\n",
       "bottle_volume_ml             int64\n",
       "state_bottle_cost          float64\n",
       "state_bottle_retail        float64\n",
       "bottles_sold                 int64\n",
       "sale_dollars               float64\n",
       "volume_sold_liters         float64\n",
       "volume_sold_gallons        float64\n",
       "dtype: object"
      ]
     },
     "execution_count": 4,
     "metadata": {},
     "output_type": "execute_result"
    }
   ],
   "source": [
    "iowa.dtypes"
   ]
  },
  {
   "cell_type": "code",
   "execution_count": 5,
   "id": "d8a08f75",
   "metadata": {},
   "outputs": [
    {
     "data": {
      "text/plain": [
       "0"
      ]
     },
     "execution_count": 5,
     "metadata": {},
     "output_type": "execute_result"
    }
   ],
   "source": [
    "iowa.duplicated().sum()   "
   ]
  },
  {
   "cell_type": "code",
   "execution_count": 7,
   "id": "074461be",
   "metadata": {},
   "outputs": [
    {
     "data": {
      "text/plain": [
       "Index(['invoice_and_item_number', 'date', 'store_number', 'store_name',\n",
       "       'address', 'city', 'zip_code', 'store_location', 'county_number',\n",
       "       'county', 'category', 'category_name', 'vendor_number', 'vendor_name',\n",
       "       'item_number', 'item_description', 'pack', 'bottle_volume_ml',\n",
       "       'state_bottle_cost', 'state_bottle_retail', 'bottles_sold',\n",
       "       'sale_dollars', 'volume_sold_liters', 'volume_sold_gallons'],\n",
       "      dtype='object')"
      ]
     },
     "execution_count": 7,
     "metadata": {},
     "output_type": "execute_result"
    }
   ],
   "source": [
    "iowa.columns"
   ]
  },
  {
   "cell_type": "code",
   "execution_count": 8,
   "id": "38a75c1d",
   "metadata": {},
   "outputs": [
    {
     "name": "stdout",
     "output_type": "stream",
     "text": [
      "missing values \n",
      " invoice_and_item_number    0\n",
      "date                       0\n",
      "store_number               0\n",
      "store_name                 0\n",
      "address                    0\n",
      "city                       0\n",
      "zip_code                   0\n",
      "store_location             9\n",
      "county_number              0\n",
      "county                     0\n",
      "category                   0\n",
      "category_name              6\n",
      "vendor_number              0\n",
      "vendor_name                0\n",
      "item_number                0\n",
      "item_description           0\n",
      "pack                       0\n",
      "bottle_volume_ml           0\n",
      "state_bottle_cost          0\n",
      "state_bottle_retail        0\n",
      "bottles_sold               0\n",
      "sale_dollars               0\n",
      "volume_sold_liters         0\n",
      "volume_sold_gallons        0\n",
      "dtype: int64\n",
      "dataframe index \n",
      " RangeIndex(start=0, stop=74, step=1)\n",
      "dataframe types \n",
      " invoice_and_item_number     object\n",
      "date                        object\n",
      "store_number                 int64\n",
      "store_name                  object\n",
      "address                     object\n",
      "city                        object\n",
      "zip_code                   float64\n",
      "store_location              object\n",
      "county_number                int64\n",
      "county                      object\n",
      "category                     int64\n",
      "category_name               object\n",
      "vendor_number                int64\n",
      "vendor_name                 object\n",
      "item_number                  int64\n",
      "item_description            object\n",
      "pack                         int64\n",
      "bottle_volume_ml             int64\n",
      "state_bottle_cost          float64\n",
      "state_bottle_retail        float64\n",
      "bottles_sold                 int64\n",
      "sale_dollars               float64\n",
      "volume_sold_liters         float64\n",
      "volume_sold_gallons        float64\n",
      "dtype: object\n",
      "dataframe shape \n",
      " (74, 24)\n",
      "dataframe describe \n",
      "        store_number      zip_code  county_number      category  vendor_number  \\\n",
      "count     74.000000     74.000000      74.000000  7.400000e+01      74.000000   \n",
      "mean    3706.472973  51185.756757      51.445946  1.114542e+06     287.486486   \n",
      "std     1193.348520    900.102564      29.430737  1.838894e+05     162.181975   \n",
      "min     2178.000000  50010.000000       3.000000  1.011500e+06      35.000000   \n",
      "25%     2616.750000  50320.000000      23.500000  1.052100e+06      77.500000   \n",
      "50%     3536.500000  50754.000000      57.000000  1.081100e+06     370.000000   \n",
      "75%     4761.500000  52163.000000      77.000000  1.081650e+06     421.000000   \n",
      "max     9001.000000  52804.000000      97.000000  1.901200e+06     566.000000   \n",
      "\n",
      "         item_number       pack  bottle_volume_ml  state_bottle_cost  \\\n",
      "count      74.000000  74.000000         74.000000          74.000000   \n",
      "mean   117115.635135  14.175676        756.756757           7.829865   \n",
      "std    227020.971218   8.235170        413.602145           6.413200   \n",
      "min       168.000000   3.000000         50.000000           0.890000   \n",
      "25%     43031.000000  12.000000        375.000000           4.255000   \n",
      "50%     60971.500000  12.000000        750.000000           5.730000   \n",
      "75%     82682.000000  12.000000       1000.000000           8.937500   \n",
      "max    986845.000000  48.000000       1750.000000          29.920000   \n",
      "\n",
      "       state_bottle_retail  bottles_sold  sale_dollars  volume_sold_liters  \\\n",
      "count            74.000000     74.000000     74.000000           74.000000   \n",
      "mean             11.746622     76.148649    827.921351           72.226622   \n",
      "std               9.619979    157.586478   1429.173301          165.173543   \n",
      "min               1.340000      1.000000      6.750000            0.200000   \n",
      "25%               6.382500      5.000000     46.102500            4.000000   \n",
      "50%               8.595000     24.000000    206.640000            7.800000   \n",
      "75%              13.407500     70.500000    713.340000           60.000000   \n",
      "max              44.880000    900.000000   6750.000000          900.000000   \n",
      "\n",
      "       volume_sold_gallons  \n",
      "count            74.000000  \n",
      "mean             19.078514  \n",
      "std              43.633755  \n",
      "min               0.050000  \n",
      "25%               1.060000  \n",
      "50%               2.060000  \n",
      "75%              15.850000  \n",
      "max             237.750000  \n",
      "invoice_and_item_number\n",
      "74\n",
      "date\n",
      "62\n",
      "store_number\n",
      "61\n",
      "store_name\n",
      "61\n",
      "address\n",
      "65\n",
      "city\n",
      "44\n",
      "zip_code\n",
      "47\n",
      "store_location\n",
      "54\n",
      "county_number\n",
      "30\n",
      "county\n",
      "37\n",
      "category\n",
      "25\n",
      "category_name\n",
      "24\n",
      "vendor_number\n",
      "20\n",
      "vendor_name\n",
      "25\n",
      "item_number\n",
      "53\n",
      "item_description\n",
      "47\n",
      "pack\n",
      "7\n",
      "bottle_volume_ml\n",
      "10\n",
      "state_bottle_cost\n",
      "52\n",
      "state_bottle_retail\n",
      "52\n",
      "bottles_sold\n",
      "30\n",
      "sale_dollars\n",
      "68\n",
      "volume_sold_liters\n",
      "39\n",
      "volume_sold_gallons\n",
      "41\n"
     ]
    }
   ],
   "source": [
    "def eda(dataframe): \n",
    "    print(\"missing values \\n\", iowa.isnull().sum())\n",
    "    print(\"dataframe index \\n\", iowa.index)\n",
    "    print(\"dataframe types \\n\", iowa.dtypes)\n",
    "    print(\"dataframe shape \\n\", iowa.shape)\n",
    "    print(\"dataframe describe \\n\", iowa.describe())\n",
    "    for item in iowa:\n",
    "        print (item)\n",
    "        print (iowa[item].nunique())\n",
    "\n",
    "eda(iowa)\n",
    "\n"
   ]
  },
  {
   "cell_type": "code",
   "execution_count": 11,
   "id": "ccc47ff6",
   "metadata": {},
   "outputs": [],
   "source": [
    "bottles_by_zip = iowa.groupby('zip_code')['bottles_sold'].sum()"
   ]
  },
  {
   "cell_type": "code",
   "execution_count": 12,
   "id": "406575c1",
   "metadata": {},
   "outputs": [
    {
     "data": {
      "text/plain": [
       "zip_code\n",
       "50010.0     288\n",
       "50022.0       4\n",
       "50111.0     108\n",
       "50131.0      48\n",
       "50158.0      33\n",
       "50263.0      84\n",
       "50265.0      72\n",
       "50266.0      90\n",
       "50314.0     348\n",
       "50316.0      48\n",
       "50317.0      24\n",
       "50320.0     258\n",
       "50327.0     102\n",
       "50401.0      66\n",
       "50461.0      30\n",
       "50501.0     108\n",
       "50588.0       4\n",
       "50662.0       8\n",
       "50701.0      13\n",
       "50702.0     786\n",
       "50703.0     229\n",
       "50707.0      60\n",
       "50801.0       5\n",
       "51106.0     468\n",
       "51246.0       5\n",
       "51247.0       6\n",
       "51360.0      48\n",
       "51401.0      34\n",
       "51501.0      61\n",
       "51555.0       2\n",
       "52001.0       4\n",
       "52003.0       5\n",
       "52136.0       2\n",
       "52172.0       1\n",
       "52240.0      78\n",
       "52241.0      49\n",
       "52314.0    1560\n",
       "52338.0      90\n",
       "52402.0     223\n",
       "52411.0      36\n",
       "52556.0       6\n",
       "52601.0      72\n",
       "52627.0      36\n",
       "52732.0      24\n",
       "52761.0       4\n",
       "52803.0       3\n",
       "52804.0       2\n",
       "Name: bottles_sold, dtype: int64"
      ]
     },
     "execution_count": 12,
     "metadata": {},
     "output_type": "execute_result"
    }
   ],
   "source": [
    "iowa.groupby('zip_code')['bottles_sold'].sum()"
   ]
  },
  {
   "cell_type": "code",
   "execution_count": 14,
   "id": "9b004f0f",
   "metadata": {},
   "outputs": [
    {
     "data": {
      "image/png": "[encoded data removed]",
      "text/plain": [
       "<Figure size 640x480 with 1 Axes>"
      ]
     },
     "metadata": {},
     "output_type": "display_data"
    }
   ],
   "source": [
    "x = iowa.zip_code\n",
    "y = iowa.bottles_sold\n",
    "plt.scatter(x, y, marker=\"o\")\n",
    "plt.xlabel('Zip Code', fontsize='large')\n",
    "plt.ylabel('Bottles Sold', fontsize='large')\n",
    "plt.title('Bottles Sold', fontsize='large')\n",
    "plt.show()"
   ]
  },
  {
   "cell_type": "code",
   "execution_count": 15,
   "id": "7a1599f5",
   "metadata": {},
   "outputs": [],
   "source": [
    "sum_sales = iowa['sale_dollars'].sum()"
   ]
  },
  {
   "cell_type": "code",
   "execution_count": 17,
   "id": "a00c656b",
   "metadata": {},
   "outputs": [],
   "source": [
    "iowa['percentage_of_sales'] = (iowa['sale_dollars'] / sum_sales) * 100"
   ]
  },
  {
   "cell_type": "code",
   "execution_count": 18,
   "id": "ff4c0b19",
   "metadata": {},
   "outputs": [
    {
     "data": {
      "text/html": [
       "<div>\n",
       "<style scoped>\n",
       "    .dataframe tbody tr th:only-of-type {\n",
       "        vertical-align: middle;\n",
       "    }\n",
       "\n",
       "    .dataframe tbody tr th {\n",
       "        vertical-align: top;\n",
       "    }\n",
       "\n",
       "    .dataframe thead th {\n",
       "        text-align: right;\n",
       "    }\n",
       "</style>\n",
       "<table border=\"1\" class=\"dataframe\">\n",
       "  <thead>\n",
       "    <tr style=\"text-align: right;\">\n",
       "      <th></th>\n",
       "      <th>store_number</th>\n",
       "      <th>sale_dollars</th>\n",
       "      <th>percentage_of_sales</th>\n",
       "    </tr>\n",
       "  </thead>\n",
       "  <tbody>\n",
       "    <tr>\n",
       "      <th>0</th>\n",
       "      <td>3772</td>\n",
       "      <td>70.56</td>\n",
       "      <td>0.115170</td>\n",
       "    </tr>\n",
       "    <tr>\n",
       "      <th>1</th>\n",
       "      <td>4829</td>\n",
       "      <td>217.80</td>\n",
       "      <td>0.355498</td>\n",
       "    </tr>\n",
       "    <tr>\n",
       "      <th>2</th>\n",
       "      <td>3162</td>\n",
       "      <td>45.72</td>\n",
       "      <td>0.074625</td>\n",
       "    </tr>\n",
       "    <tr>\n",
       "      <th>3</th>\n",
       "      <td>2641</td>\n",
       "      <td>17.82</td>\n",
       "      <td>0.029086</td>\n",
       "    </tr>\n",
       "    <tr>\n",
       "      <th>4</th>\n",
       "      <td>2633</td>\n",
       "      <td>1755.60</td>\n",
       "      <td>2.865529</td>\n",
       "    </tr>\n",
       "    <tr>\n",
       "      <th>...</th>\n",
       "      <td>...</td>\n",
       "      <td>...</td>\n",
       "      <td>...</td>\n",
       "    </tr>\n",
       "    <tr>\n",
       "      <th>69</th>\n",
       "      <td>4136</td>\n",
       "      <td>1296.00</td>\n",
       "      <td>2.115360</td>\n",
       "    </tr>\n",
       "    <tr>\n",
       "      <th>70</th>\n",
       "      <td>4312</td>\n",
       "      <td>174.24</td>\n",
       "      <td>0.284398</td>\n",
       "    </tr>\n",
       "    <tr>\n",
       "      <th>71</th>\n",
       "      <td>2593</td>\n",
       "      <td>637.74</td>\n",
       "      <td>1.040933</td>\n",
       "    </tr>\n",
       "    <tr>\n",
       "      <th>72</th>\n",
       "      <td>2670</td>\n",
       "      <td>504.00</td>\n",
       "      <td>0.822640</td>\n",
       "    </tr>\n",
       "    <tr>\n",
       "      <th>73</th>\n",
       "      <td>3993</td>\n",
       "      <td>33.24</td>\n",
       "      <td>0.054255</td>\n",
       "    </tr>\n",
       "  </tbody>\n",
       "</table>\n",
       "<p>74 rows × 3 columns</p>\n",
       "</div>"
      ],
      "text/plain": [
       "    store_number  sale_dollars  percentage_of_sales\n",
       "0           3772         70.56             0.115170\n",
       "1           4829        217.80             0.355498\n",
       "2           3162         45.72             0.074625\n",
       "3           2641         17.82             0.029086\n",
       "4           2633       1755.60             2.865529\n",
       "..           ...           ...                  ...\n",
       "69          4136       1296.00             2.115360\n",
       "70          4312        174.24             0.284398\n",
       "71          2593        637.74             1.040933\n",
       "72          2670        504.00             0.822640\n",
       "73          3993         33.24             0.054255\n",
       "\n",
       "[74 rows x 3 columns]"
      ]
     },
     "execution_count": 18,
     "metadata": {},
     "output_type": "execute_result"
    }
   ],
   "source": [
    "iowa[['store_number', 'sale_dollars', 'percentage_of_sales']]"
   ]
  },
  {
   "cell_type": "code",
   "execution_count": 22,
   "id": "d7197fc2",
   "metadata": {},
   "outputs": [
    {
     "data": {
      "image/png": "[encoded data removed]",
      "text/plain": [
       "<Figure size 640x480 with 1 Axes>"
      ]
     },
     "metadata": {},
     "output_type": "display_data"
    }
   ],
   "source": [
    "iowa.groupby('store_number')['percentage_of_sales'].sum().sort_values(ascending=False) \\\n",
    "    .head(10) \\\n",
    "    .plot(kind='barh')\n",
    "plt.title('Sales per Store')\n",
    "plt.xlabel('Percentage of Sales(%)')\n",
    "plt.ylabel('Store Number')\n",
    "plt.show()"
   ]
  },
  {
   "cell_type": "code",
   "execution_count": null,
   "id": "84734796",
   "metadata": {},
   "outputs": [],
   "source": []
  }
 ],
 "metadata": {
  "kernelspec": {
   "display_name": "Python 3 (ipykernel)",
   "language": "python",
   "name": "python3"
  },
  "language_info": {
   "codemirror_mode": {
    "name": "ipython",
    "version": 3
   },
   "file_extension": ".py",
   "mimetype": "text/x-python",
   "name": "python",
   "nbconvert_exporter": "python",
   "pygments_lexer": "ipython3",
   "version": "3.7.13"
  }
 },
 "nbformat": 4,
 "nbformat_minor": 5
}
